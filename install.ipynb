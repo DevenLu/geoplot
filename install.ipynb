{
 "cells": [
  {
   "cell_type": "markdown",
   "metadata": {},
   "source": [
    "This notebook wraps some IPython code which installs `geopandas` and its dependencies from a set of `.whl` files stored in the `dependencies` directory.\n",
    "\n",
    "This is only necessary in the case of a Windows machine, and is only intended to be a temporary solution.\n",
    "\n",
    "To run this notebook:\n",
    "\n",
    "    runipy install.ipynb"
   ]
  },
  {
   "cell_type": "code",
   "execution_count": null,
   "metadata": {
    "collapsed": true
   },
   "outputs": [],
   "source": [
    "!pip install dependencies/GDAL-2.0.2-cp35-none-win_amd64.whl\n",
    "!pip install dependencies/Fiona-1.7.0-cp35-cp35m-win_amd64.whl\n",
    "!pip install dependencies/pyproj-1.9.5.1-cp35-cp35m-win_amd64.whl\n",
    "!pip install dependencies/Shapely-1.5.16-cp35-cp35m-win_amd64.whl\n",
    "!pip install geopandas"
   ]
  }
 ],
 "metadata": {
  "kernelspec": {
   "display_name": "Python 3",
   "language": "python",
   "name": "python3"
  },
  "language_info": {
   "codemirror_mode": {
    "name": "ipython",
    "version": 3
   },
   "file_extension": ".py",
   "mimetype": "text/x-python",
   "name": "python",
   "nbconvert_exporter": "python",
   "pygments_lexer": "ipython3",
   "version": "3.5.1"
  }
 },
 "nbformat": 4,
 "nbformat_minor": 0
}
