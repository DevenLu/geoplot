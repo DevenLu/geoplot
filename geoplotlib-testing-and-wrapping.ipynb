{
 "cells": [
  {
   "cell_type": "code",
   "execution_count": 1,
   "metadata": {
    "collapsed": true
   },
   "outputs": [],
   "source": [
    "import geoplotlib\n",
    "import requests\n",
    "import os\n",
    "import pandas as pd\n",
    "from pandas import DataFrame, Series\n",
    "import geopandas as gdp\n",
    "from geopandas import GeoDataFrame, GeoSeries\n",
    "from shapely.geometry import Point"
   ]
  },
  {
   "cell_type": "code",
   "execution_count": 2,
   "metadata": {
    "collapsed": true
   },
   "outputs": [],
   "source": [
    "def download_file(url, path, update=False):\n",
    "    \"\"\"\n",
    "    Helper method handling downloading large files from `url` to `filename`. Returns a pointer to `filename`.\n",
    "    \n",
    "    Will simply return the `filename` immediately if it's already available locally.\n",
    "    \"\"\"\n",
    "    if os.path.isfile(path) and not update:\n",
    "        return path\n",
    "    else:\n",
    "        r = requests.get(url, stream=True)\n",
    "        with open(path, 'wb') as f:\n",
    "            for chunk in r.iter_content(chunk_size=1024): \n",
    "                if chunk: # filter out keep-alive new chunks\n",
    "                    f.write(chunk)\n",
    "        return path"
   ]
  },
  {
   "cell_type": "markdown",
   "metadata": {},
   "source": [
    "# Dot Map\n",
    "\n",
    "Using NYPD motor vehicle collision data."
   ]
  },
  {
   "cell_type": "code",
   "execution_count": 3,
   "metadata": {
    "collapsed": false
   },
   "outputs": [],
   "source": [
    "path = download_file(\"https://data.cityofnewyork.us/api/views/h9gi-nx95/rows.csv?accessType=DOWNLOAD\",\n",
    "                     \"NYPD Motor Vehicle Collisions.csv\")\n",
    "collisions_df = pd.read_csv(path, index_col=23)"
   ]
  },
  {
   "cell_type": "code",
   "execution_count": 4,
   "metadata": {
    "collapsed": false
   },
   "outputs": [],
   "source": [
    "collisions_gdf = GeoDataFrame(collisions_df,\n",
    "                              geometry=collisions_df.apply(lambda srs: Point(srs['LONGITUDE'], srs['LATITUDE']), axis='columns'))\n",
    "collisions_gdf.drop(['LATITUDE', 'LONGITUDE', 'LOCATION'], inplace=True, axis='columns')"
   ]
  },
  {
   "cell_type": "code",
   "execution_count": 6,
   "metadata": {
    "collapsed": false
   },
   "outputs": [
    {
     "name": "stdout",
     "output_type": "stream",
     "text": [
      "GDI+ cannot load 'C:\\\\Users\\\\Alex/geoplotlib_tiles/mapquest/11/601/771.png'\n",
      "GDI+ cannot load 'C:\\\\Users\\\\Alex/geoplotlib_tiles/mapquest/11/603/770.png'\n",
      "GDI+ cannot load 'C:\\\\Users\\\\Alex/geoplotlib_tiles/mapquest/11/604/768.png'\n"
     ]
    }
   ],
   "source": [
    "geoplotlib.dot(collisions_df.rename(columns={'LATITUDE': 'lat', 'LONGITUDE': 'lon'}).dropna(subset=['lat', 'lon']))\n",
    "geoplotlib.show()"
   ]
  },
  {
   "cell_type": "code",
   "execution_count": null,
   "metadata": {
    "collapsed": true
   },
   "outputs": [],
   "source": []
  }
 ],
 "metadata": {
  "kernelspec": {
   "display_name": "Python 3",
   "language": "python",
   "name": "python3"
  },
  "language_info": {
   "codemirror_mode": {
    "name": "ipython",
    "version": 3
   },
   "file_extension": ".py",
   "mimetype": "text/x-python",
   "name": "python",
   "nbconvert_exporter": "python",
   "pygments_lexer": "ipython3",
   "version": "3.5.2"
  }
 },
 "nbformat": 4,
 "nbformat_minor": 0
}
